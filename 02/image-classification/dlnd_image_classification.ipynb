{
 "cells": [
  {
   "cell_type": "markdown",
   "metadata": {
    "collapsed": true,
    "deletable": true,
    "editable": true
   },
   "source": [
    "# Image Classification\n",
    "In this project, you'll classify images from the [CIFAR-10 dataset](https://www.cs.toronto.edu/~kriz/cifar.html).  The dataset consists of airplanes, dogs, cats, and other objects. You'll preprocess the images, then train a convolutional neural network on all the samples. The images need to be normalized and the labels need to be one-hot encoded.  You'll get to apply what you learned and build a convolutional, max pooling, dropout, and fully connected layers.  At the end, you'll get to see your neural network's predictions on the sample images.\n",
    "## Get the Data\n",
    "Run the following cell to download the [CIFAR-10 dataset for python](https://www.cs.toronto.edu/~kriz/cifar-10-python.tar.gz)."
   ]
  },
  {
   "cell_type": "code",
   "execution_count": 1,
   "metadata": {
    "collapsed": false,
    "deletable": true,
    "editable": true
   },
   "outputs": [
    {
     "name": "stderr",
     "output_type": "stream",
     "text": [
      "CIFAR-10 Dataset: 171MB [00:35, 4.79MB/s]                              \n"
     ]
    },
    {
     "name": "stdout",
     "output_type": "stream",
     "text": [
      "All files found!\n"
     ]
    }
   ],
   "source": [
    "\"\"\"\n",
    "DON'T MODIFY ANYTHING IN THIS CELL THAT IS BELOW THIS LINE\n",
    "\"\"\"\n",
    "from urllib.request import urlretrieve\n",
    "from os.path import isfile, isdir\n",
    "from tqdm import tqdm\n",
    "import problem_unittests as tests\n",
    "import tarfile\n",
    "\n",
    "cifar10_dataset_folder_path = 'cifar-10-batches-py'\n",
    "\n",
    "class DLProgress(tqdm):\n",
    "    last_block = 0\n",
    "\n",
    "    def hook(self, block_num=1, block_size=1, total_size=None):\n",
    "        self.total = total_size\n",
    "        self.update((block_num - self.last_block) * block_size)\n",
    "        self.last_block = block_num\n",
    "\n",
    "if not isfile('cifar-10-python.tar.gz'):\n",
    "    with DLProgress(unit='B', unit_scale=True, miniters=1, desc='CIFAR-10 Dataset') as pbar:\n",
    "        urlretrieve(\n",
    "            'https://www.cs.toronto.edu/~kriz/cifar-10-python.tar.gz',\n",
    "            'cifar-10-python.tar.gz',\n",
    "            pbar.hook)\n",
    "\n",
    "if not isdir(cifar10_dataset_folder_path):\n",
    "    with tarfile.open('cifar-10-python.tar.gz') as tar:\n",
    "        tar.extractall()\n",
    "        tar.close()\n",
    "\n",
    "\n",
    "tests.test_folder_path(cifar10_dataset_folder_path)"
   ]
  },
  {
   "cell_type": "markdown",
   "metadata": {
    "deletable": true,
    "editable": true
   },
   "source": [
    "## Explore the Data\n",
    "The dataset is broken into batches to prevent your machine from running out of memory.  The CIFAR-10 dataset consists of 5 batches, named `data_batch_1`, `data_batch_2`, etc.. Each batch contains the labels and images that are one of the following:\n",
    "* airplane\n",
    "* automobile\n",
    "* bird\n",
    "* cat\n",
    "* deer\n",
    "* dog\n",
    "* frog\n",
    "* horse\n",
    "* ship\n",
    "* truck\n",
    "\n",
    "Understanding a dataset is part of making predictions on the data.  Play around with the code cell below by changing the `batch_id` and `sample_id`. The `batch_id` is the id for a batch (1-5). The `sample_id` is the id for a image and label pair in the batch.\n",
    "\n",
    "Ask yourself \"What are all possible labels?\", \"What is the range of values for the image data?\", \"Are the labels in order or random?\".  Answers to questions like these will help you preprocess the data and end up with better predictions."
   ]
  },
  {
   "cell_type": "code",
   "execution_count": 2,
   "metadata": {
    "collapsed": false,
    "deletable": true,
    "editable": true
   },
   "outputs": [
    {
     "name": "stdout",
     "output_type": "stream",
     "text": [
      "\n",
      "Stats of batch 1:\n",
      "Samples: 10000\n",
      "Label Counts: {0: 1005, 1: 974, 2: 1032, 3: 1016, 4: 999, 5: 937, 6: 1030, 7: 1001, 8: 1025, 9: 981}\n",
      "First 20 Labels: [6, 9, 9, 4, 1, 1, 2, 7, 8, 3, 4, 7, 7, 2, 9, 9, 9, 3, 2, 6]\n",
      "\n",
      "Example of Image 5:\n",
      "Image - Min Value: 0 Max Value: 252\n",
      "Image - Shape: (32, 32, 3)\n",
      "Label - Label Id: 1 Name: automobile\n"
     ]
    },
    {
     "data": {
      "image/png": "[encoded data removed]",
      "text/plain": [
       "<matplotlib.figure.Figure at 0x7f998c71fc50>"
      ]
     },
     "metadata": {
      "image/png": {
       "height": 250,
       "width": 253
      }
     },
     "output_type": "display_data"
    }
   ],
   "source": [
    "%matplotlib inline\n",
    "%config InlineBackend.figure_format = 'retina'\n",
    "\n",
    "import helper\n",
    "import numpy as np\n",
    "\n",
    "# Explore the dataset\n",
    "batch_id = 1\n",
    "sample_id = 5\n",
    "helper.display_stats(cifar10_dataset_folder_path, batch_id, sample_id)"
   ]
  },
  {
   "cell_type": "markdown",
   "metadata": {
    "deletable": true,
    "editable": true
   },
   "source": [
    "## Implement Preprocess Functions\n",
    "### Normalize\n",
    "In the cell below, implement the `normalize` function to take in image data, `x`, and return it as a normalized Numpy array. The values should be in the range of 0 to 1, inclusive.  The return object should be the same shape as `x`."
   ]
  },
  {
   "cell_type": "code",
   "execution_count": 3,
   "metadata": {
    "collapsed": false,
    "deletable": true,
    "editable": true
   },
   "outputs": [
    {
     "name": "stdout",
     "output_type": "stream",
     "text": [
      "Tests Passed\n"
     ]
    }
   ],
   "source": [
    "def normalize(x):\n",
    "    \"\"\"\n",
    "    Normalize a list of sample image data in the range of 0 to 1\n",
    "    : x: List of image data.  The image shape is (32, 32, 3)\n",
    "    : return: Numpy array of normalize data\n",
    "    \"\"\"\n",
    "    # TODO: Implement Function\n",
    "    return x/255\n",
    "\n",
    "\n",
    "\"\"\"\n",
    "DON'T MODIFY ANYTHING IN THIS CELL THAT IS BELOW THIS LINE\n",
    "\"\"\"\n",
    "tests.test_normalize(normalize)"
   ]
  },
  {
   "cell_type": "markdown",
   "metadata": {
    "deletable": true,
    "editable": true
   },
   "source": [
    "### One-hot encode\n",
    "Just like the previous code cell, you'll be implementing a function for preprocessing.  This time, you'll implement the `one_hot_encode` function. The input, `x`, are a list of labels.  Implement the function to return the list of labels as One-Hot encoded Numpy array.  The possible values for labels are 0 to 9. The one-hot encoding function should return the same encoding for each value between each call to `one_hot_encode`.  Make sure to save the map of encodings outside the function.\n",
    "\n",
    "Hint: Don't reinvent the wheel."
   ]
  },
  {
   "cell_type": "code",
   "execution_count": 4,
   "metadata": {
    "collapsed": false,
    "deletable": true,
    "editable": true
   },
   "outputs": [
    {
     "name": "stdout",
     "output_type": "stream",
     "text": [
      "Tests Passed\n"
     ]
    }
   ],
   "source": [
    "def one_hot_encode(x):\n",
    "    \"\"\"\n",
    "    One hot encode a list of sample labels. Return a one-hot encoded vector for each label.\n",
    "    : x: List of sample Labels\n",
    "    : return: Numpy array of one-hot encoded labels\n",
    "    \"\"\"\n",
    "    # TODO: Implement Function\n",
    "    retval = np.zeros((len(x),10))\n",
    "    for i,label in enumerate(x):\n",
    "        retval[i,label]=1\n",
    "    return retval\n",
    "\n",
    "\n",
    "\"\"\"\n",
    "DON'T MODIFY ANYTHING IN THIS CELL THAT IS BELOW THIS LINE\n",
    "\"\"\"\n",
    "tests.test_one_hot_encode(one_hot_encode)"
   ]
  },
  {
   "cell_type": "markdown",
   "metadata": {
    "deletable": true,
    "editable": true
   },
   "source": [
    "### Randomize Data\n",
    "As you saw from exploring the data above, the order of the samples are randomized.  It doesn't hurt to randomize it again, but you don't need to for this dataset."
   ]
  },
  {
   "cell_type": "markdown",
   "metadata": {
    "deletable": true,
    "editable": true
   },
   "source": [
    "## Preprocess all the data and save it\n",
    "Running the code cell below will preprocess all the CIFAR-10 data and save it to file. The code below also uses 10% of the training data for validation."
   ]
  },
  {
   "cell_type": "code",
   "execution_count": 5,
   "metadata": {
    "collapsed": false,
    "deletable": true,
    "editable": true
   },
   "outputs": [],
   "source": [
    "\"\"\"\n",
    "DON'T MODIFY ANYTHING IN THIS CELL\n",
    "\"\"\"\n",
    "# Preprocess Training, Validation, and Testing Data\n",
    "helper.preprocess_and_save_data(cifar10_dataset_folder_path, normalize, one_hot_encode)"
   ]
  },
  {
   "cell_type": "markdown",
   "metadata": {
    "deletable": true,
    "editable": true
   },
   "source": [
    "# Check Point\n",
    "This is your first checkpoint.  If you ever decide to come back to this notebook or have to restart the notebook, you can start from here.  The preprocessed data has been saved to disk."
   ]
  },
  {
   "cell_type": "code",
   "execution_count": 6,
   "metadata": {
    "collapsed": true,
    "deletable": true,
    "editable": true
   },
   "outputs": [],
   "source": [
    "\"\"\"\n",
    "DON'T MODIFY ANYTHING IN THIS CELL\n",
    "\"\"\"\n",
    "import pickle\n",
    "import problem_unittests as tests\n",
    "import helper\n",
    "\n",
    "# Load the Preprocessed Validation data\n",
    "valid_features, valid_labels = pickle.load(open('preprocess_validation.p', mode='rb'))"
   ]
  },
  {
   "cell_type": "markdown",
   "metadata": {
    "deletable": true,
    "editable": true
   },
   "source": [
    "## Build the network\n",
    "For the neural network, you'll build each layer into a function.  Most of the code you've seen has been outside of functions. To test your code more thoroughly, we require that you put each layer in a function.  This allows us to give you better feedback and test for simple mistakes using our unittests before you submit your project.\n",
    "\n",
    ">**Note:** If you're finding it hard to dedicate enough time for this course each week, we've provided a small shortcut to this part of the project. In the next couple of problems, you'll have the option to use classes from the [TensorFlow Layers](https://www.tensorflow.org/api_docs/python/tf/layers) or [TensorFlow Layers (contrib)](https://www.tensorflow.org/api_guides/python/contrib.layers) packages to build each layer, except the layers you build in the \"Convolutional and Max Pooling Layer\" section.  TF Layers is similar to Keras's and TFLearn's abstraction to layers, so it's easy to pickup.\n",
    "\n",
    ">However, if you would like to get the most out of this course, try to solve all the problems _without_ using anything from the TF Layers packages. You **can** still use classes from other packages that happen to have the same name as ones you find in TF Layers! For example, instead of using the TF Layers version of the `conv2d` class, [tf.layers.conv2d](https://www.tensorflow.org/api_docs/python/tf/layers/conv2d), you would want to use the TF Neural Network version of `conv2d`, [tf.nn.conv2d](https://www.tensorflow.org/api_docs/python/tf/nn/conv2d). \n",
    "\n",
    "Let's begin!\n",
    "\n",
    "### Input\n",
    "The neural network needs to read the image data, one-hot encoded labels, and dropout keep probability. Implement the following functions\n",
    "* Implement `neural_net_image_input`\n",
    " * Return a [TF Placeholder](https://www.tensorflow.org/api_docs/python/tf/placeholder)\n",
    " * Set the shape using `image_shape` with batch size set to `None`.\n",
    " * Name the TensorFlow placeholder \"x\" using the TensorFlow `name` parameter in the [TF Placeholder](https://www.tensorflow.org/api_docs/python/tf/placeholder).\n",
    "* Implement `neural_net_label_input`\n",
    " * Return a [TF Placeholder](https://www.tensorflow.org/api_docs/python/tf/placeholder)\n",
    " * Set the shape using `n_classes` with batch size set to `None`.\n",
    " * Name the TensorFlow placeholder \"y\" using the TensorFlow `name` parameter in the [TF Placeholder](https://www.tensorflow.org/api_docs/python/tf/placeholder).\n",
    "* Implement `neural_net_keep_prob_input`\n",
    " * Return a [TF Placeholder](https://www.tensorflow.org/api_docs/python/tf/placeholder) for dropout keep probability.\n",
    " * Name the TensorFlow placeholder \"keep_prob\" using the TensorFlow `name` parameter in the [TF Placeholder](https://www.tensorflow.org/api_docs/python/tf/placeholder).\n",
    "\n",
    "These names will be used at the end of the project to load your saved model.\n",
    "\n",
    "Note: `None` for shapes in TensorFlow allow for a dynamic size."
   ]
  },
  {
   "cell_type": "code",
   "execution_count": 7,
   "metadata": {
    "collapsed": true,
    "deletable": true,
    "editable": true
   },
   "outputs": [],
   "source": [
    "import tensorflow as tf"
   ]
  },
  {
   "cell_type": "code",
   "execution_count": 8,
   "metadata": {
    "collapsed": false,
    "deletable": true,
    "editable": true
   },
   "outputs": [
    {
     "name": "stdout",
     "output_type": "stream",
     "text": [
      "Image Input Tests Passed.\n",
      "Label Input Tests Passed.\n",
      "Keep Prob Tests Passed.\n"
     ]
    }
   ],
   "source": [
    "def neural_net_image_input(image_shape):\n",
    "    \"\"\"\n",
    "    Return a Tensor for a bach of image input\n",
    "    : image_shape: Shape of the images\n",
    "    : return: Tensor for image input.\n",
    "    \"\"\"\n",
    "    # TODO: Implement Function\n",
    "    return tf.placeholder(tf.float32, shape=[None,*image_shape], name=\"x\")\n",
    "\n",
    "\n",
    "def neural_net_label_input(n_classes):\n",
    "    \"\"\"\n",
    "    Return a Tensor for a batch of label input\n",
    "    : n_classes: Number of classes\n",
    "    : return: Tensor for label input.\n",
    "    \"\"\"\n",
    "    # TODO: Implement Function\n",
    "    return tf.placeholder(tf.float32, shape=[None,n_classes], name=\"y\")\n",
    "\n",
    "\n",
    "\n",
    "def neural_net_keep_prob_input():\n",
    "    \"\"\"\n",
    "    Return a Tensor for keep probability\n",
    "    : return: Tensor for keep probability.\n",
    "    \"\"\"\n",
    "    # TODO: Implement Function\n",
    "    return  tf.placeholder(tf.float32, name=\"keep_prob\")\n",
    "\n",
    "\n",
    "\"\"\"\n",
    "DON'T MODIFY ANYTHING IN THIS CELL THAT IS BELOW THIS LINE\n",
    "\"\"\"\n",
    "tf.reset_default_graph()\n",
    "tests.test_nn_image_inputs(neural_net_image_input)\n",
    "tests.test_nn_label_inputs(neural_net_label_input)\n",
    "tests.test_nn_keep_prob_inputs(neural_net_keep_prob_input)"
   ]
  },
  {
   "cell_type": "markdown",
   "metadata": {
    "deletable": true,
    "editable": true
   },
   "source": [
    "### Convolution and Max Pooling Layer\n",
    "Convolution layers have a lot of success with images. For this code cell, you should implement the function `conv2d_maxpool` to apply convolution then max pooling:\n",
    "* Create the weight and bias using `conv_ksize`, `conv_num_outputs` and the shape of `x_tensor`.\n",
    "* Apply a convolution to `x_tensor` using weight and `conv_strides`.\n",
    " * We recommend you use same padding, but you're welcome to use any padding.\n",
    "* Add bias\n",
    "* Add a nonlinear activation to the convolution.\n",
    "* Apply Max Pooling using `pool_ksize` and `pool_strides`.\n",
    " * We recommend you use same padding, but you're welcome to use any padding.\n",
    "\n",
    "**Note:** You **can't** use [TensorFlow Layers](https://www.tensorflow.org/api_docs/python/tf/layers) or [TensorFlow Layers (contrib)](https://www.tensorflow.org/api_guides/python/contrib.layers) for **this** layer, but you can still use TensorFlow's [Neural Network](https://www.tensorflow.org/api_docs/python/tf/nn) package. You may still use the shortcut option for all the **other** layers."
   ]
  },
  {
   "cell_type": "code",
   "execution_count": 9,
   "metadata": {
    "collapsed": false,
    "deletable": true,
    "editable": true
   },
   "outputs": [
    {
     "name": "stdout",
     "output_type": "stream",
     "text": [
      "Tests Passed\n"
     ]
    }
   ],
   "source": [
    "def conv2d_maxpool(x_tensor, conv_num_outputs, conv_ksize, conv_strides, pool_ksize, pool_strides):\n",
    "    \"\"\"\n",
    "    Apply convolution then max pooling to x_tensor\n",
    "    :param x_tensor: TensorFlow Tensor\n",
    "    :param conv_num_outputs: Number of outputs for the convolutional layer\n",
    "    :param conv_ksize: kernal size 2-D Tuple for the convolutional layer\n",
    "    :param conv_strides: Stride 2-D Tuple for convolution\n",
    "    :param pool_ksize: kernal size 2-D Tuple for pool\n",
    "    :param pool_strides: Stride 2-D Tuple for pool\n",
    "    : return: A tensor that represents convolution and max pooling of x_tensor\n",
    "    \"\"\"\n",
    "    # TODO: Implement Function\n",
    "    # weight and bias\n",
    "    channels = int(x_tensor.get_shape()[-1])\n",
    "    weight = tf.Variable(tf.truncated_normal(\n",
    "        shape=[*conv_ksize, channels, conv_num_outputs],\n",
    "        mean=0.0,\n",
    "        stddev=0.1\n",
    "    ))\n",
    "    bias = tf.Variable(tf.zeros(conv_num_outputs))    \n",
    "    # MAX__Pool(Activation(Convolution + bias))\n",
    "    conv_layer = tf.nn.conv2d(x_tensor, weight, strides=[1, *conv_strides, 1], padding='SAME')\n",
    "    conv_layer = tf.nn.bias_add(conv_layer, bias)\n",
    "    conv_layer = tf.nn.relu(conv_layer)\n",
    "    conv_layer = tf.nn.max_pool(conv_layer, ksize=[1,*pool_ksize,1], strides=[1, *pool_strides, 1], padding=\"SAME\")\n",
    "    return(conv_layer)\n",
    "    \n",
    "    \n",
    "\n",
    "\"\"\"\n",
    "DON'T MODIFY ANYTHING IN THIS CELL THAT IS BELOW THIS LINE\n",
    "\"\"\"\n",
    "tests.test_con_pool(conv2d_maxpool)"
   ]
  },
  {
   "cell_type": "markdown",
   "metadata": {
    "deletable": true,
    "editable": true
   },
   "source": [
    "### Flatten Layer\n",
    "Implement the `flatten` function to change the dimension of `x_tensor` from a 4-D tensor to a 2-D tensor.  The output should be the shape (*Batch Size*, *Flattened Image Size*). Shortcut option: you can use classes from the [TensorFlow Layers](https://www.tensorflow.org/api_docs/python/tf/layers) or [TensorFlow Layers (contrib)](https://www.tensorflow.org/api_guides/python/contrib.layers) packages for this layer. For more of a challenge, only use other TensorFlow packages."
   ]
  },
  {
   "cell_type": "code",
   "execution_count": 10,
   "metadata": {
    "collapsed": false,
    "deletable": true,
    "editable": true
   },
   "outputs": [
    {
     "name": "stdout",
     "output_type": "stream",
     "text": [
      "Tests Passed\n"
     ]
    }
   ],
   "source": [
    "def flatten(x_tensor):\n",
    "    \"\"\"\n",
    "    Flatten x_tensor to (Batch Size, Flattened Image Size)\n",
    "    : x_tensor: A tensor of size (Batch Size, ...), where ... are the image dimensions.\n",
    "    : return: A tensor of size (Batch Size, Flattened Image Size).\n",
    "    \"\"\"\n",
    "    # TODO: Implement Function\n",
    "    return tf.contrib.layers.flatten(x_tensor)\n",
    "\n",
    "\n",
    "\"\"\"\n",
    "DON'T MODIFY ANYTHING IN THIS CELL THAT IS BELOW THIS LINE\n",
    "\"\"\"\n",
    "tests.test_flatten(flatten)"
   ]
  },
  {
   "cell_type": "markdown",
   "metadata": {
    "deletable": true,
    "editable": true
   },
   "source": [
    "### Fully-Connected Layer\n",
    "Implement the `fully_conn` function to apply a fully connected layer to `x_tensor` with the shape (*Batch Size*, *num_outputs*). Shortcut option: you can use classes from the [TensorFlow Layers](https://www.tensorflow.org/api_docs/python/tf/layers) or [TensorFlow Layers (contrib)](https://www.tensorflow.org/api_guides/python/contrib.layers) packages for this layer. For more of a challenge, only use other TensorFlow packages."
   ]
  },
  {
   "cell_type": "code",
   "execution_count": 11,
   "metadata": {
    "collapsed": false,
    "deletable": true,
    "editable": true
   },
   "outputs": [
    {
     "name": "stdout",
     "output_type": "stream",
     "text": [
      "Tests Passed\n"
     ]
    }
   ],
   "source": [
    "def fully_conn(x_tensor, num_outputs):\n",
    "    \"\"\"\n",
    "    Apply a fully connected layer to x_tensor using weight and bias\n",
    "    : x_tensor: A 2-D tensor where the first dimension is batch size.\n",
    "    : num_outputs: The number of output that the new tensor should be.\n",
    "    : return: A 2-D tensor where the second dimension is num_outputs.\n",
    "    \"\"\"\n",
    "    # TODO: Implement Function\n",
    "    #return tf.layers.dense(inputs=x_tensor, units=num_outputs, activation=tf.nn.relu, use_bias=True, kernel_initializer=tf.truncated_normal_initializer())\n",
    "    weight_dim = (x_tensor.get_shape().as_list()[1], num_outputs)\n",
    "    weights = tf.Variable(tf.truncated_normal(weight_dim, stddev = 0.1))\n",
    "    bias = tf.Variable(tf.zeros(num_outputs))\n",
    "    \n",
    "    hidden_input = tf.add(tf.matmul(x_tensor, weights), bias)\n",
    "    hidden_output = tf.nn.relu(hidden_input)\n",
    "    return hidden_output\n",
    "\n",
    "\n",
    "\"\"\"\n",
    "DON'T MODIFY ANYTHING IN THIS CELL THAT IS BELOW THIS LINE\n",
    "\"\"\"\n",
    "tests.test_fully_conn(fully_conn)"
   ]
  },
  {
   "cell_type": "markdown",
   "metadata": {
    "deletable": true,
    "editable": true
   },
   "source": [
    "### Output Layer\n",
    "Implement the `output` function to apply a fully connected layer to `x_tensor` with the shape (*Batch Size*, *num_outputs*). Shortcut option: you can use classes from the [TensorFlow Layers](https://www.tensorflow.org/api_docs/python/tf/layers) or [TensorFlow Layers (contrib)](https://www.tensorflow.org/api_guides/python/contrib.layers) packages for this layer. For more of a challenge, only use other TensorFlow packages.\n",
    "\n",
    "**Note:** Activation, softmax, or cross entropy should **not** be applied to this."
   ]
  },
  {
   "cell_type": "code",
   "execution_count": 12,
   "metadata": {
    "collapsed": false,
    "deletable": true,
    "editable": true
   },
   "outputs": [
    {
     "name": "stdout",
     "output_type": "stream",
     "text": [
      "Tests Passed\n"
     ]
    }
   ],
   "source": [
    "def output(x_tensor, num_outputs):\n",
    "    \"\"\"\n",
    "    Apply a output layer to x_tensor using weight and bias\n",
    "    : x_tensor: A 2-D tensor where the first dimension is batch size.\n",
    "    : num_outputs: The number of output that the new tensor should be.\n",
    "    : return: A 2-D tensor where the second dimension is num_outputs.\n",
    "    \"\"\"\n",
    "    # TODO: Implement Function\n",
    "    return fully_conn(x_tensor, num_outputs)\n",
    "\n",
    "\n",
    "\"\"\"\n",
    "DON'T MODIFY ANYTHING IN THIS CELL THAT IS BELOW THIS LINE\n",
    "\"\"\"\n",
    "tests.test_output(output)"
   ]
  },
  {
   "cell_type": "markdown",
   "metadata": {
    "deletable": true,
    "editable": true
   },
   "source": [
    "### Create Convolutional Model\n",
    "Implement the function `conv_net` to create a convolutional neural network model. The function takes in a batch of images, `x`, and outputs logits.  Use the layers you created above to create this model:\n",
    "\n",
    "* Apply 1, 2, or 3 Convolution and Max Pool layers\n",
    "* Apply a Flatten Layer\n",
    "* Apply 1, 2, or 3 Fully Connected Layers\n",
    "* Apply an Output Layer\n",
    "* Return the output\n",
    "* Apply [TensorFlow's Dropout](https://www.tensorflow.org/api_docs/python/tf/nn/dropout) to one or more layers in the model using `keep_prob`. "
   ]
  },
  {
   "cell_type": "code",
   "execution_count": 33,
   "metadata": {
    "collapsed": false,
    "deletable": true,
    "editable": true
   },
   "outputs": [
    {
     "name": "stdout",
     "output_type": "stream",
     "text": [
      "Neural Network Built!\n"
     ]
    }
   ],
   "source": [
    "def conv_net(x, keep_prob):\n",
    "    \"\"\"\n",
    "    Create a convolutional neural network model\n",
    "    : x: Placeholder tensor that holds image data.\n",
    "    : keep_prob: Placeholder tensor that hold dropout keep probability.\n",
    "    : return: Tensor that represents logits\n",
    "    \"\"\"\n",
    "    # TODO: Apply 1, 2, or 3 Convolution and Max Pool layers\n",
    "    #    Play around with different number of outputs, kernel size and stride\n",
    "    # Function Definition from Above:\n",
    "    #    conv2d_maxpool(x_tensor, conv_num_outputs, conv_ksize, conv_strides, pool_ksize, pool_strides)\n",
    "    model = conv2d_maxpool(x, 50, (3,3), (1,1), (2,2), (2,2))\n",
    "    model = conv2d_maxpool(model, 100, (3,3), (1,1), (2,2), (2,2))\n",
    "    model = conv2d_maxpool(model, 150, (3,3), (1,1), (2,2), (2,2))  \n",
    "    model = flatten(model)\n",
    "    model = fully_conn(model, 100)\n",
    "    model = tf.nn.dropout(model, keep_prob)\n",
    "    model = fully_conn(model, 30)    \n",
    "    model = tf.nn.dropout(model, keep_prob)\n",
    "    model = output(model, 10)\n",
    "    return model\n",
    "\n",
    "\n",
    "\"\"\"\n",
    "DON'T MODIFY ANYTHING IN THIS CELL THAT IS BELOW THIS LINE\n",
    "\"\"\"\n",
    "\n",
    "##############################\n",
    "## Build the Neural Network ##\n",
    "##############################\n",
    "\n",
    "# Remove previous weights, bias, inputs, etc..\n",
    "tf.reset_default_graph()\n",
    "\n",
    "# Inputs\n",
    "x = neural_net_image_input((32, 32, 3))\n",
    "y = neural_net_label_input(10)\n",
    "keep_prob = neural_net_keep_prob_input()\n",
    "\n",
    "# Model\n",
    "logits = conv_net(x, keep_prob)\n",
    "\n",
    "# Name logits Tensor, so that is can be loaded from disk after training\n",
    "logits = tf.identity(logits, name='logits')\n",
    "\n",
    "# Loss and Optimizer\n",
    "cost = tf.reduce_mean(tf.nn.softmax_cross_entropy_with_logits(logits=logits, labels=y))\n",
    "optimizer = tf.train.AdamOptimizer().minimize(cost)\n",
    "\n",
    "# Accuracy\n",
    "correct_pred = tf.equal(tf.argmax(logits, 1), tf.argmax(y, 1))\n",
    "accuracy = tf.reduce_mean(tf.cast(correct_pred, tf.float32), name='accuracy')\n",
    "\n",
    "tests.test_conv_net(conv_net)"
   ]
  },
  {
   "cell_type": "markdown",
   "metadata": {
    "deletable": true,
    "editable": true
   },
   "source": [
    "## Train the Neural Network\n",
    "### Single Optimization\n",
    "Implement the function `train_neural_network` to do a single optimization.  The optimization should use `optimizer` to optimize in `session` with a `feed_dict` of the following:\n",
    "* `x` for image input\n",
    "* `y` for labels\n",
    "* `keep_prob` for keep probability for dropout\n",
    "\n",
    "This function will be called for each batch, so `tf.global_variables_initializer()` has already been called.\n",
    "\n",
    "Note: Nothing needs to be returned. This function is only optimizing the neural network."
   ]
  },
  {
   "cell_type": "code",
   "execution_count": 14,
   "metadata": {
    "collapsed": false,
    "deletable": true,
    "editable": true
   },
   "outputs": [
    {
     "name": "stdout",
     "output_type": "stream",
     "text": [
      "Tests Passed\n"
     ]
    }
   ],
   "source": [
    "def train_neural_network(session, optimizer, keep_probability, feature_batch, label_batch):\n",
    "    \"\"\"\n",
    "    Optimize the session on a batch of images and labels\n",
    "    : session: Current TensorFlow session\n",
    "    : optimizer: TensorFlow optimizer function\n",
    "    : keep_probability: keep probability\n",
    "    : feature_batch: Batch of Numpy image data\n",
    "    : label_batch: Batch of Numpy label data\n",
    "    \"\"\"\n",
    "    # TODO: Implement Function\n",
    "    session.run(optimizer, feed_dict={\n",
    "        x: feature_batch,\n",
    "        y: label_batch,\n",
    "        keep_prob: keep_probability}\n",
    "    )\n",
    "\n",
    "\n",
    "\"\"\"\n",
    "DON'T MODIFY ANYTHING IN THIS CELL THAT IS BELOW THIS LINE\n",
    "\"\"\"\n",
    "tests.test_train_nn(train_neural_network)"
   ]
  },
  {
   "cell_type": "markdown",
   "metadata": {
    "deletable": true,
    "editable": true
   },
   "source": [
    "### Show Stats\n",
    "Implement the function `print_stats` to print loss and validation accuracy.  Use the global variables `valid_features` and `valid_labels` to calculate validation accuracy.  Use a keep probability of `1.0` to calculate the loss and validation accuracy."
   ]
  },
  {
   "cell_type": "code",
   "execution_count": 15,
   "metadata": {
    "collapsed": false,
    "deletable": true,
    "editable": true
   },
   "outputs": [],
   "source": [
    "def print_stats(session, feature_batch, label_batch, cost, accuracy):\n",
    "    \"\"\"\n",
    "    Print information about loss and validation accuracy\n",
    "    : session: Current TensorFlow session\n",
    "    : feature_batch: Batch of Numpy image data\n",
    "    : label_batch: Batch of Numpy label data\n",
    "    : cost: TensorFlow cost function\n",
    "    : accuracy: TensorFlow accuracy function\n",
    "    \"\"\"\n",
    "    # TODO: Implement Function\n",
    "    loss = session.run(cost, feed_dict = {\n",
    "        x: feature_batch, \n",
    "        y: label_batch, \n",
    "        keep_prob: 1.0}\n",
    "    )    \n",
    "    valid_acc = sess.run(accuracy, feed_dict={\n",
    "        x: valid_features,\n",
    "        y: valid_labels,\n",
    "        keep_prob: 1.0\n",
    "    })\n",
    "    print(\"ACC - train:{0}\\t validation:{1}\".format(loss, valid_acc))"
   ]
  },
  {
   "cell_type": "markdown",
   "metadata": {
    "deletable": true,
    "editable": true
   },
   "source": [
    "### Hyperparameters\n",
    "Tune the following parameters:\n",
    "* Set `epochs` to the number of iterations until the network stops learning or start overfitting\n",
    "* Set `batch_size` to the highest number that your machine has memory for.  Most people set them to common sizes of memory:\n",
    " * 64\n",
    " * 128\n",
    " * 256\n",
    " * ...\n",
    "* Set `keep_probability` to the probability of keeping a node using dropout"
   ]
  },
  {
   "cell_type": "code",
   "execution_count": 34,
   "metadata": {
    "collapsed": true,
    "deletable": true,
    "editable": true
   },
   "outputs": [],
   "source": [
    "# TODO: Tune Parameters\n",
    "epochs = 30\n",
    "batch_size = 512\n",
    "keep_probability = 0.8"
   ]
  },
  {
   "cell_type": "markdown",
   "metadata": {
    "deletable": true,
    "editable": true
   },
   "source": [
    "### Train on a Single CIFAR-10 Batch\n",
    "Instead of training the neural network on all the CIFAR-10 batches of data, let's use a single batch. This should save time while you iterate on the model to get a better accuracy.  Once the final validation accuracy is 50% or greater, run the model on all the data in the next section."
   ]
  },
  {
   "cell_type": "code",
   "execution_count": 35,
   "metadata": {
    "collapsed": false,
    "deletable": true,
    "editable": true
   },
   "outputs": [
    {
     "name": "stdout",
     "output_type": "stream",
     "text": [
      "Checking the Training on a Single Batch...\n",
      "Epoch  1, CIFAR-10 Batch 1:  ACC - train:2.3026230335235596\t validation:0.09779998660087585\n",
      "Epoch  2, CIFAR-10 Batch 1:  ACC - train:2.2519946098327637\t validation:0.09919998794794083\n",
      "Epoch  3, CIFAR-10 Batch 1:  ACC - train:2.199751615524292\t validation:0.2134000062942505\n",
      "Epoch  4, CIFAR-10 Batch 1:  ACC - train:2.1419501304626465\t validation:0.2621999979019165\n",
      "Epoch  5, CIFAR-10 Batch 1:  ACC - train:2.06557035446167\t validation:0.3073999881744385\n",
      "Epoch  6, CIFAR-10 Batch 1:  ACC - train:1.9812595844268799\t validation:0.3285999894142151\n",
      "Epoch  7, CIFAR-10 Batch 1:  ACC - train:1.8964334726333618\t validation:0.3787999749183655\n",
      "Epoch  8, CIFAR-10 Batch 1:  ACC - train:1.745422124862671\t validation:0.40700000524520874\n",
      "Epoch  9, CIFAR-10 Batch 1:  ACC - train:1.654026985168457\t validation:0.42739999294281006\n",
      "Epoch 10, CIFAR-10 Batch 1:  ACC - train:1.5580450296401978\t validation:0.44499996304512024\n",
      "Epoch 11, CIFAR-10 Batch 1:  ACC - train:1.4891055822372437\t validation:0.47439998388290405\n",
      "Epoch 12, CIFAR-10 Batch 1:  ACC - train:1.4441161155700684\t validation:0.4789999723434448\n",
      "Epoch 13, CIFAR-10 Batch 1:  ACC - train:1.4024890661239624\t validation:0.5047999620437622\n",
      "Epoch 14, CIFAR-10 Batch 1:  ACC - train:1.3154791593551636\t validation:0.5099999904632568\n",
      "Epoch 15, CIFAR-10 Batch 1:  ACC - train:1.2671782970428467\t validation:0.5123999714851379\n",
      "Epoch 16, CIFAR-10 Batch 1:  ACC - train:1.2377607822418213\t validation:0.5189999341964722\n",
      "Epoch 17, CIFAR-10 Batch 1:  ACC - train:1.1969870328903198\t validation:0.5135999321937561\n",
      "Epoch 18, CIFAR-10 Batch 1:  ACC - train:1.1397836208343506\t validation:0.5369999408721924\n",
      "Epoch 19, CIFAR-10 Batch 1:  ACC - train:1.068249225616455\t validation:0.5491999387741089\n",
      "Epoch 20, CIFAR-10 Batch 1:  ACC - train:1.0502958297729492\t validation:0.5451998710632324\n",
      "Epoch 21, CIFAR-10 Batch 1:  ACC - train:0.9823262691497803\t validation:0.5619999170303345\n",
      "Epoch 22, CIFAR-10 Batch 1:  ACC - train:0.9479549527168274\t validation:0.5705998539924622\n",
      "Epoch 23, CIFAR-10 Batch 1:  ACC - train:0.9078346490859985\t validation:0.5695999264717102\n",
      "Epoch 24, CIFAR-10 Batch 1:  ACC - train:0.8854000568389893\t validation:0.5709999203681946\n",
      "Epoch 25, CIFAR-10 Batch 1:  ACC - train:0.8244578242301941\t validation:0.5829999446868896\n",
      "Epoch 26, CIFAR-10 Batch 1:  ACC - train:0.8454566597938538\t validation:0.5665999054908752\n",
      "Epoch 27, CIFAR-10 Batch 1:  ACC - train:0.7593457102775574\t validation:0.5851998925209045\n",
      "Epoch 28, CIFAR-10 Batch 1:  ACC - train:0.8164015412330627\t validation:0.5683999061584473\n",
      "Epoch 29, CIFAR-10 Batch 1:  ACC - train:0.7202788591384888\t validation:0.5781999230384827\n",
      "Epoch 30, CIFAR-10 Batch 1:  ACC - train:0.6905072927474976\t validation:0.5723999738693237\n"
     ]
    }
   ],
   "source": [
    "\"\"\"\n",
    "DON'T MODIFY ANYTHING IN THIS CELL\n",
    "\"\"\"\n",
    "print('Checking the Training on a Single Batch...')\n",
    "with tf.Session() as sess:\n",
    "    # Initializing the variables\n",
    "    sess.run(tf.global_variables_initializer())\n",
    "    \n",
    "    # Training cycle\n",
    "    for epoch in range(epochs):\n",
    "        batch_i = 1\n",
    "        for batch_features, batch_labels in helper.load_preprocess_training_batch(batch_i, batch_size):\n",
    "            train_neural_network(sess, optimizer, keep_probability, batch_features, batch_labels)\n",
    "        print('Epoch {:>2}, CIFAR-10 Batch {}:  '.format(epoch + 1, batch_i), end='')\n",
    "        print_stats(sess, batch_features, batch_labels, cost, accuracy)"
   ]
  },
  {
   "cell_type": "markdown",
   "metadata": {
    "deletable": true,
    "editable": true
   },
   "source": [
    "### Fully Train the Model\n",
    "Now that you got a good accuracy with a single CIFAR-10 batch, try it with all five batches."
   ]
  },
  {
   "cell_type": "code",
   "execution_count": 37,
   "metadata": {
    "collapsed": false,
    "deletable": true,
    "editable": true
   },
   "outputs": [
    {
     "name": "stdout",
     "output_type": "stream",
     "text": [
      "Training...\n",
      "Epoch  1, CIFAR-10 Batch 1:  ACC - train:2.266317367553711\t validation:0.13699999451637268\n",
      "Epoch  1, CIFAR-10 Batch 2:  ACC - train:2.104567766189575\t validation:0.2361999750137329\n",
      "Epoch  1, CIFAR-10 Batch 3:  ACC - train:1.9922082424163818\t validation:0.28939998149871826\n",
      "Epoch  1, CIFAR-10 Batch 4:  ACC - train:1.8161542415618896\t validation:0.3472000062465668\n",
      "Epoch  1, CIFAR-10 Batch 5:  ACC - train:1.7648779153823853\t validation:0.37139999866485596\n",
      "Epoch  2, CIFAR-10 Batch 1:  ACC - train:1.7907516956329346\t validation:0.4073999524116516\n",
      "Epoch  2, CIFAR-10 Batch 2:  ACC - train:1.6110522747039795\t validation:0.4327999949455261\n",
      "Epoch  2, CIFAR-10 Batch 3:  ACC - train:1.4226734638214111\t validation:0.4285999536514282\n",
      "Epoch  2, CIFAR-10 Batch 4:  ACC - train:1.4000195264816284\t validation:0.46699994802474976\n",
      "Epoch  2, CIFAR-10 Batch 5:  ACC - train:1.4543110132217407\t validation:0.4535999894142151\n",
      "Epoch  3, CIFAR-10 Batch 1:  ACC - train:1.4836902618408203\t validation:0.49059993028640747\n",
      "Epoch  3, CIFAR-10 Batch 2:  ACC - train:1.3417179584503174\t validation:0.5115999579429626\n",
      "Epoch  3, CIFAR-10 Batch 3:  ACC - train:1.2223809957504272\t validation:0.5039999485015869\n",
      "Epoch  3, CIFAR-10 Batch 4:  ACC - train:1.2213865518569946\t validation:0.5205999612808228\n",
      "Epoch  3, CIFAR-10 Batch 5:  ACC - train:1.244666576385498\t validation:0.524399995803833\n",
      "Epoch  4, CIFAR-10 Batch 1:  ACC - train:1.262115716934204\t validation:0.5413999557495117\n",
      "Epoch  4, CIFAR-10 Batch 2:  ACC - train:1.2334539890289307\t validation:0.5561999082565308\n",
      "Epoch  4, CIFAR-10 Batch 3:  ACC - train:1.0876271724700928\t validation:0.553399920463562\n",
      "Epoch  4, CIFAR-10 Batch 4:  ACC - train:1.0492578744888306\t validation:0.5785999298095703\n",
      "Epoch  4, CIFAR-10 Batch 5:  ACC - train:1.0670421123504639\t validation:0.5743999481201172\n",
      "Epoch  5, CIFAR-10 Batch 1:  ACC - train:1.1103687286376953\t validation:0.586199939250946\n",
      "Epoch  5, CIFAR-10 Batch 2:  ACC - train:1.0605533123016357\t validation:0.5787999033927917\n",
      "Epoch  5, CIFAR-10 Batch 3:  ACC - train:0.9495973587036133\t validation:0.5947998762130737\n",
      "Epoch  5, CIFAR-10 Batch 4:  ACC - train:0.9397810101509094\t validation:0.6071999073028564\n",
      "Epoch  5, CIFAR-10 Batch 5:  ACC - train:1.0028125047683716\t validation:0.5961999297142029\n",
      "Epoch  6, CIFAR-10 Batch 1:  ACC - train:1.0138280391693115\t validation:0.5851999521255493\n",
      "Epoch  6, CIFAR-10 Batch 2:  ACC - train:0.9991542100906372\t validation:0.6009998917579651\n",
      "Epoch  6, CIFAR-10 Batch 3:  ACC - train:0.8578314185142517\t validation:0.6185998916625977\n",
      "Epoch  6, CIFAR-10 Batch 4:  ACC - train:0.84128338098526\t validation:0.632599949836731\n",
      "Epoch  6, CIFAR-10 Batch 5:  ACC - train:0.8783679604530334\t validation:0.6283999085426331\n",
      "Epoch  7, CIFAR-10 Batch 1:  ACC - train:0.940923810005188\t validation:0.6279998421669006\n",
      "Epoch  7, CIFAR-10 Batch 2:  ACC - train:0.8999255299568176\t validation:0.6231999397277832\n",
      "Epoch  7, CIFAR-10 Batch 3:  ACC - train:0.7733705639839172\t validation:0.6361998319625854\n",
      "Epoch  7, CIFAR-10 Batch 4:  ACC - train:0.7583925724029541\t validation:0.6525998711585999\n",
      "Epoch  7, CIFAR-10 Batch 5:  ACC - train:0.8095115423202515\t validation:0.650399923324585\n",
      "Epoch  8, CIFAR-10 Batch 1:  ACC - train:0.8900410532951355\t validation:0.6427999138832092\n",
      "Epoch  8, CIFAR-10 Batch 2:  ACC - train:0.8261229395866394\t validation:0.6269999146461487\n",
      "Epoch  8, CIFAR-10 Batch 3:  ACC - train:0.6989916563034058\t validation:0.6613999009132385\n",
      "Epoch  8, CIFAR-10 Batch 4:  ACC - train:0.6867997050285339\t validation:0.6625998616218567\n",
      "Epoch  8, CIFAR-10 Batch 5:  ACC - train:0.7860003709793091\t validation:0.6479998826980591\n",
      "Epoch  9, CIFAR-10 Batch 1:  ACC - train:0.7880846858024597\t validation:0.6639998555183411\n",
      "Epoch  9, CIFAR-10 Batch 2:  ACC - train:0.7808172106742859\t validation:0.6541998386383057\n",
      "Epoch  9, CIFAR-10 Batch 3:  ACC - train:0.6757744550704956\t validation:0.6647998690605164\n",
      "Epoch  9, CIFAR-10 Batch 4:  ACC - train:0.6668017506599426\t validation:0.6757998466491699\n",
      "Epoch  9, CIFAR-10 Batch 5:  ACC - train:0.6710546612739563\t validation:0.682999849319458\n",
      "Epoch 10, CIFAR-10 Batch 1:  ACC - train:0.7340977787971497\t validation:0.6755998730659485\n",
      "Epoch 10, CIFAR-10 Batch 2:  ACC - train:0.7232063412666321\t validation:0.6513999104499817\n",
      "Epoch 10, CIFAR-10 Batch 3:  ACC - train:0.65245521068573\t validation:0.671799898147583\n",
      "Epoch 10, CIFAR-10 Batch 4:  ACC - train:0.6233203411102295\t validation:0.6851998567581177\n",
      "Epoch 10, CIFAR-10 Batch 5:  ACC - train:0.6297281980514526\t validation:0.6857998967170715\n",
      "Epoch 11, CIFAR-10 Batch 1:  ACC - train:0.684638261795044\t validation:0.6693998575210571\n",
      "Epoch 11, CIFAR-10 Batch 2:  ACC - train:0.6665485501289368\t validation:0.6679999232292175\n",
      "Epoch 11, CIFAR-10 Batch 3:  ACC - train:0.6230029463768005\t validation:0.6743998527526855\n",
      "Epoch 11, CIFAR-10 Batch 4:  ACC - train:0.5756904482841492\t validation:0.6867998838424683\n",
      "Epoch 11, CIFAR-10 Batch 5:  ACC - train:0.5480096340179443\t validation:0.6935998201370239\n",
      "Epoch 12, CIFAR-10 Batch 1:  ACC - train:0.6278898119926453\t validation:0.6993998289108276\n",
      "Epoch 12, CIFAR-10 Batch 2:  ACC - train:0.6028194427490234\t validation:0.6795998215675354\n",
      "Epoch 12, CIFAR-10 Batch 3:  ACC - train:0.5723830461502075\t validation:0.6861998438835144\n",
      "Epoch 12, CIFAR-10 Batch 4:  ACC - train:0.5604903697967529\t validation:0.6769998073577881\n",
      "Epoch 12, CIFAR-10 Batch 5:  ACC - train:0.5173448920249939\t validation:0.6971998810768127\n",
      "Epoch 13, CIFAR-10 Batch 1:  ACC - train:0.6021755933761597\t validation:0.6987999081611633\n",
      "Epoch 13, CIFAR-10 Batch 2:  ACC - train:0.5977415442466736\t validation:0.6791999340057373\n",
      "Epoch 13, CIFAR-10 Batch 3:  ACC - train:0.5306293964385986\t validation:0.7061998844146729\n",
      "Epoch 13, CIFAR-10 Batch 4:  ACC - train:0.5203898549079895\t validation:0.693199872970581\n",
      "Epoch 13, CIFAR-10 Batch 5:  ACC - train:0.49820083379745483\t validation:0.6963998675346375\n",
      "Epoch 14, CIFAR-10 Batch 1:  ACC - train:0.5408923029899597\t validation:0.705599844455719\n",
      "Epoch 14, CIFAR-10 Batch 2:  ACC - train:0.5391877293586731\t validation:0.6945998668670654\n",
      "Epoch 14, CIFAR-10 Batch 3:  ACC - train:0.4881649911403656\t validation:0.712199866771698\n",
      "Epoch 14, CIFAR-10 Batch 4:  ACC - train:0.4917258024215698\t validation:0.6945999264717102\n",
      "Epoch 14, CIFAR-10 Batch 5:  ACC - train:0.43500590324401855\t validation:0.7093998193740845\n",
      "Epoch 15, CIFAR-10 Batch 1:  ACC - train:0.5285452008247375\t validation:0.6935998201370239\n",
      "Epoch 15, CIFAR-10 Batch 2:  ACC - train:0.4688709080219269\t validation:0.7107999324798584\n",
      "Epoch 15, CIFAR-10 Batch 3:  ACC - train:0.4346790313720703\t validation:0.7133998870849609\n",
      "Epoch 15, CIFAR-10 Batch 4:  ACC - train:0.4804929792881012\t validation:0.6827998757362366\n",
      "Epoch 15, CIFAR-10 Batch 5:  ACC - train:0.43771374225616455\t validation:0.6967998743057251\n",
      "Epoch 16, CIFAR-10 Batch 1:  ACC - train:0.5336047410964966\t validation:0.6797998547554016\n",
      "Epoch 16, CIFAR-10 Batch 2:  ACC - train:0.45961520075798035\t validation:0.7059999108314514\n",
      "Epoch 16, CIFAR-10 Batch 3:  ACC - train:0.42908433079719543\t validation:0.7171998620033264\n",
      "Epoch 16, CIFAR-10 Batch 4:  ACC - train:0.4528573751449585\t validation:0.693199872970581\n",
      "Epoch 16, CIFAR-10 Batch 5:  ACC - train:0.39330923557281494\t validation:0.7129998207092285\n",
      "Epoch 17, CIFAR-10 Batch 1:  ACC - train:0.4668012261390686\t validation:0.6989998817443848\n",
      "Epoch 17, CIFAR-10 Batch 2:  ACC - train:0.4267648160457611\t validation:0.7067998647689819\n",
      "Epoch 17, CIFAR-10 Batch 3:  ACC - train:0.4068698287010193\t validation:0.7209998369216919\n",
      "Epoch 17, CIFAR-10 Batch 4:  ACC - train:0.3897680640220642\t validation:0.7195998430252075\n",
      "Epoch 17, CIFAR-10 Batch 5:  ACC - train:0.3384671211242676\t validation:0.7201998829841614\n",
      "Epoch 18, CIFAR-10 Batch 1:  ACC - train:0.42020750045776367\t validation:0.7081998586654663\n",
      "Epoch 18, CIFAR-10 Batch 2:  ACC - train:0.37189045548439026\t validation:0.7129998207092285\n",
      "Epoch 18, CIFAR-10 Batch 3:  ACC - train:0.3749837875366211\t validation:0.7239997982978821\n",
      "Epoch 18, CIFAR-10 Batch 4:  ACC - train:0.3443301022052765\t validation:0.7225998640060425\n",
      "Epoch 18, CIFAR-10 Batch 5:  ACC - train:0.31006792187690735\t validation:0.7275999188423157\n",
      "Epoch 19, CIFAR-10 Batch 1:  ACC - train:0.39219096302986145\t validation:0.7185998558998108\n",
      "Epoch 19, CIFAR-10 Batch 2:  ACC - train:0.37149035930633545\t validation:0.7175998687744141\n",
      "Epoch 19, CIFAR-10 Batch 3:  ACC - train:0.3802536427974701\t validation:0.7219998836517334\n",
      "Epoch 19, CIFAR-10 Batch 4:  ACC - train:0.338210791349411\t validation:0.7275997996330261\n",
      "Epoch 19, CIFAR-10 Batch 5:  ACC - train:0.30286356806755066\t validation:0.7245998382568359\n",
      "Epoch 20, CIFAR-10 Batch 1:  ACC - train:0.3635459840297699\t validation:0.7223998308181763\n",
      "Epoch 20, CIFAR-10 Batch 2:  ACC - train:0.3766154646873474\t validation:0.7119998335838318\n",
      "Epoch 20, CIFAR-10 Batch 3:  ACC - train:0.35047730803489685\t validation:0.7211998701095581\n",
      "Epoch 20, CIFAR-10 Batch 4:  ACC - train:0.3077038526535034\t validation:0.7213998436927795\n",
      "Epoch 20, CIFAR-10 Batch 5:  ACC - train:0.2719848155975342\t validation:0.7189998626708984\n",
      "Epoch 21, CIFAR-10 Batch 1:  ACC - train:0.3412971794605255\t validation:0.7239999175071716\n",
      "Epoch 21, CIFAR-10 Batch 2:  ACC - train:0.35117265582084656\t validation:0.7209997773170471\n",
      "Epoch 21, CIFAR-10 Batch 3:  ACC - train:0.3017129898071289\t validation:0.7255998253822327\n",
      "Epoch 21, CIFAR-10 Batch 4:  ACC - train:0.2939358353614807\t validation:0.7199997901916504\n",
      "Epoch 21, CIFAR-10 Batch 5:  ACC - train:0.2526966333389282\t validation:0.7261999249458313\n",
      "Epoch 22, CIFAR-10 Batch 1:  ACC - train:0.32716822624206543\t validation:0.7223998308181763\n",
      "Epoch 22, CIFAR-10 Batch 2:  ACC - train:0.34325265884399414\t validation:0.711999773979187\n",
      "Epoch 22, CIFAR-10 Batch 3:  ACC - train:0.30442512035369873\t validation:0.7155998945236206\n",
      "Epoch 22, CIFAR-10 Batch 4:  ACC - train:0.2718774378299713\t validation:0.7239998579025269\n",
      "Epoch 22, CIFAR-10 Batch 5:  ACC - train:0.21648085117340088\t validation:0.7341999411582947\n",
      "Epoch 23, CIFAR-10 Batch 1:  ACC - train:0.31302839517593384\t validation:0.7241998910903931\n",
      "Epoch 23, CIFAR-10 Batch 2:  ACC - train:0.31255367398262024\t validation:0.7201998233795166\n",
      "Epoch 23, CIFAR-10 Batch 3:  ACC - train:0.30295825004577637\t validation:0.6947998404502869\n",
      "Epoch 23, CIFAR-10 Batch 4:  ACC - train:0.2434949278831482\t validation:0.7237998247146606\n",
      "Epoch 23, CIFAR-10 Batch 5:  ACC - train:0.22961769998073578\t validation:0.7235997915267944\n",
      "Epoch 24, CIFAR-10 Batch 1:  ACC - train:0.2880971431732178\t validation:0.7197997570037842\n",
      "Epoch 24, CIFAR-10 Batch 2:  ACC - train:0.2725335359573364\t validation:0.7163998484611511\n",
      "Epoch 24, CIFAR-10 Batch 3:  ACC - train:0.24759460985660553\t validation:0.7127999067306519\n",
      "Epoch 24, CIFAR-10 Batch 4:  ACC - train:0.23899346590042114\t validation:0.7235997915267944\n",
      "Epoch 24, CIFAR-10 Batch 5:  ACC - train:0.21509364247322083\t validation:0.7259998321533203\n",
      "Epoch 25, CIFAR-10 Batch 1:  ACC - train:0.27086108922958374\t validation:0.7149999141693115\n",
      "Epoch 25, CIFAR-10 Batch 2:  ACC - train:0.23063887655735016\t validation:0.7275998592376709\n",
      "Epoch 25, CIFAR-10 Batch 3:  ACC - train:0.2248763144016266\t validation:0.7161998748779297\n",
      "Epoch 25, CIFAR-10 Batch 4:  ACC - train:0.25981849431991577\t validation:0.7005999088287354\n",
      "Epoch 25, CIFAR-10 Batch 5:  ACC - train:0.18462514877319336\t validation:0.7193998098373413\n",
      "Epoch 26, CIFAR-10 Batch 1:  ACC - train:0.24550282955169678\t validation:0.7275997996330261\n",
      "Epoch 26, CIFAR-10 Batch 2:  ACC - train:0.23314958810806274\t validation:0.7277998924255371\n",
      "Epoch 26, CIFAR-10 Batch 3:  ACC - train:0.27412861585617065\t validation:0.6987998485565186\n",
      "Epoch 26, CIFAR-10 Batch 4:  ACC - train:0.2256130576133728\t validation:0.7143998742103577\n",
      "Epoch 26, CIFAR-10 Batch 5:  ACC - train:0.17223620414733887\t validation:0.7183998823165894\n",
      "Epoch 27, CIFAR-10 Batch 1:  ACC - train:0.2603389620780945\t validation:0.7249998450279236\n",
      "Epoch 27, CIFAR-10 Batch 2:  ACC - train:0.21801608800888062\t validation:0.7323998212814331\n",
      "Epoch 27, CIFAR-10 Batch 3:  ACC - train:0.2202368676662445\t validation:0.7143998742103577\n",
      "Epoch 27, CIFAR-10 Batch 4:  ACC - train:0.2012796401977539\t validation:0.7095998525619507\n",
      "Epoch 27, CIFAR-10 Batch 5:  ACC - train:0.14527355134487152\t validation:0.7221998572349548\n",
      "Epoch 28, CIFAR-10 Batch 1:  ACC - train:0.22132174670696259\t validation:0.7375998497009277\n",
      "Epoch 28, CIFAR-10 Batch 2:  ACC - train:0.23151175677776337\t validation:0.7201998233795166\n",
      "Epoch 28, CIFAR-10 Batch 3:  ACC - train:0.16463816165924072\t validation:0.7279998064041138\n",
      "Epoch 28, CIFAR-10 Batch 4:  ACC - train:0.16800494492053986\t validation:0.7137998938560486\n",
      "Epoch 28, CIFAR-10 Batch 5:  ACC - train:0.12522710859775543\t validation:0.7195998430252075\n",
      "Epoch 29, CIFAR-10 Batch 1:  ACC - train:0.20933055877685547\t validation:0.7211998105049133\n",
      "Epoch 29, CIFAR-10 Batch 2:  ACC - train:0.23100490868091583\t validation:0.7143998742103577\n",
      "Epoch 29, CIFAR-10 Batch 3:  ACC - train:0.15653498470783234\t validation:0.7321998476982117\n",
      "Epoch 29, CIFAR-10 Batch 4:  ACC - train:0.145474374294281\t validation:0.7183998823165894\n",
      "Epoch 29, CIFAR-10 Batch 5:  ACC - train:0.1319260597229004\t validation:0.7283998727798462\n",
      "Epoch 30, CIFAR-10 Batch 1:  ACC - train:0.20314162969589233\t validation:0.721599817276001\n",
      "Epoch 30, CIFAR-10 Batch 2:  ACC - train:0.18792670965194702\t validation:0.7231998443603516\n",
      "Epoch 30, CIFAR-10 Batch 3:  ACC - train:0.18224245309829712\t validation:0.7015998363494873\n",
      "Epoch 30, CIFAR-10 Batch 4:  ACC - train:0.14849096536636353\t validation:0.7247998714447021\n",
      "Epoch 30, CIFAR-10 Batch 5:  ACC - train:0.11383341997861862\t validation:0.7301998138427734\n"
     ]
    }
   ],
   "source": [
    "\"\"\"\n",
    "DON'T MODIFY ANYTHING IN THIS CELL\n",
    "\"\"\"\n",
    "save_model_path = './image_classification'\n",
    "\n",
    "print('Training...')\n",
    "with tf.Session() as sess:\n",
    "    # Initializing the variables\n",
    "    sess.run(tf.global_variables_initializer())\n",
    "    \n",
    "    # Training cycle\n",
    "    for epoch in range(epochs):\n",
    "        # Loop over all batches\n",
    "        n_batches = 5\n",
    "        for batch_i in range(1, n_batches + 1):\n",
    "            for batch_features, batch_labels in helper.load_preprocess_training_batch(batch_i, batch_size):\n",
    "                train_neural_network(sess, optimizer, keep_probability, batch_features, batch_labels)\n",
    "            print('Epoch {:>2}, CIFAR-10 Batch {}:  '.format(epoch + 1, batch_i), end='')\n",
    "            print_stats(sess, batch_features, batch_labels, cost, accuracy)\n",
    "            \n",
    "    # Save Model\n",
    "    saver = tf.train.Saver()\n",
    "    save_path = saver.save(sess, save_model_path)"
   ]
  },
  {
   "cell_type": "markdown",
   "metadata": {
    "deletable": true,
    "editable": true
   },
   "source": [
    "# Checkpoint\n",
    "The model has been saved to disk.\n",
    "## Test Model\n",
    "Test your model against the test dataset.  This will be your final accuracy. You should have an accuracy greater than 50%. If you don't, keep tweaking the model architecture and parameters."
   ]
  },
  {
   "cell_type": "code",
   "execution_count": 38,
   "metadata": {
    "collapsed": false,
    "deletable": true,
    "editable": true
   },
   "outputs": [
    {
     "name": "stdout",
     "output_type": "stream",
     "text": [
      "Testing Accuracy: 0.724092373251915\n",
      "\n"
     ]
    },
    {
     "data": {
      "image/png": "[encoded data removed]",
      "text/plain": [
       "<matplotlib.figure.Figure at 0x7f992cb110f0>"
      ]
     },
     "metadata": {
      "image/png": {
       "height": 319,
       "width": 355
      }
     },
     "output_type": "display_data"
    }
   ],
   "source": [
    "\"\"\"\n",
    "DON'T MODIFY ANYTHING IN THIS CELL\n",
    "\"\"\"\n",
    "%matplotlib inline\n",
    "%config InlineBackend.figure_format = 'retina'\n",
    "\n",
    "import tensorflow as tf\n",
    "import pickle\n",
    "import helper\n",
    "import random\n",
    "\n",
    "# Set batch size if not already set\n",
    "try:\n",
    "    if batch_size:\n",
    "        pass\n",
    "except NameError:\n",
    "    batch_size = 64\n",
    "\n",
    "save_model_path = './image_classification'\n",
    "n_samples = 4\n",
    "top_n_predictions = 3\n",
    "\n",
    "def test_model():\n",
    "    \"\"\"\n",
    "    Test the saved model against the test dataset\n",
    "    \"\"\"\n",
    "\n",
    "    test_features, test_labels = pickle.load(open('preprocess_training.p', mode='rb'))\n",
    "    loaded_graph = tf.Graph()\n",
    "\n",
    "    with tf.Session(graph=loaded_graph) as sess:\n",
    "        # Load model\n",
    "        loader = tf.train.import_meta_graph(save_model_path + '.meta')\n",
    "        loader.restore(sess, save_model_path)\n",
    "\n",
    "        # Get Tensors from loaded model\n",
    "        loaded_x = loaded_graph.get_tensor_by_name('x:0')\n",
    "        loaded_y = loaded_graph.get_tensor_by_name('y:0')\n",
    "        loaded_keep_prob = loaded_graph.get_tensor_by_name('keep_prob:0')\n",
    "        loaded_logits = loaded_graph.get_tensor_by_name('logits:0')\n",
    "        loaded_acc = loaded_graph.get_tensor_by_name('accuracy:0')\n",
    "        \n",
    "        # Get accuracy in batches for memory limitations\n",
    "        test_batch_acc_total = 0\n",
    "        test_batch_count = 0\n",
    "        \n",
    "        for train_feature_batch, train_label_batch in helper.batch_features_labels(test_features, test_labels, batch_size):\n",
    "            test_batch_acc_total += sess.run(\n",
    "                loaded_acc,\n",
    "                feed_dict={loaded_x: train_feature_batch, loaded_y: train_label_batch, loaded_keep_prob: 1.0})\n",
    "            test_batch_count += 1\n",
    "\n",
    "        print('Testing Accuracy: {}\\n'.format(test_batch_acc_total/test_batch_count))\n",
    "\n",
    "        # Print Random Samples\n",
    "        random_test_features, random_test_labels = tuple(zip(*random.sample(list(zip(test_features, test_labels)), n_samples)))\n",
    "        random_test_predictions = sess.run(\n",
    "            tf.nn.top_k(tf.nn.softmax(loaded_logits), top_n_predictions),\n",
    "            feed_dict={loaded_x: random_test_features, loaded_y: random_test_labels, loaded_keep_prob: 1.0})\n",
    "        helper.display_image_predictions(random_test_features, random_test_labels, random_test_predictions)\n",
    "\n",
    "\n",
    "test_model()"
   ]
  },
  {
   "cell_type": "markdown",
   "metadata": {
    "deletable": true,
    "editable": true
   },
   "source": [
    "## Why 50-70% Accuracy?\n",
    "You might be wondering why you can't get an accuracy any higher. First things first, 50% isn't bad for a simple CNN.  Pure guessing would get you 10% accuracy. However, you might notice people are getting scores [well above 70%](http://rodrigob.github.io/are_we_there_yet/build/classification_datasets_results.html#43494641522d3130).  That's because we haven't taught you all there is to know about neural networks. We still need to cover a few more techniques.\n",
    "## Submitting This Project\n",
    "When submitting this project, make sure to run all the cells before saving the notebook.  Save the notebook file as \"dlnd_image_classification.ipynb\" and save it as a HTML file under \"File\" -> \"Download as\".  Include the \"helper.py\" and \"problem_unittests.py\" files in your submission."
   ]
  }
 ],
 "metadata": {
  "kernelspec": {
   "display_name": "Python 3",
   "language": "python",
   "name": "python3"
  },
  "language_info": {
   "codemirror_mode": {
    "name": "ipython",
    "version": 3
   },
   "file_extension": ".py",
   "mimetype": "text/x-python",
   "name": "python",
   "nbconvert_exporter": "python",
   "pygments_lexer": "ipython3",
   "version": "3.5.2"
  },
  "widgets": {
   "state": {},
   "version": "1.1.2"
  }
 },
 "nbformat": 4,
 "nbformat_minor": 0
}
